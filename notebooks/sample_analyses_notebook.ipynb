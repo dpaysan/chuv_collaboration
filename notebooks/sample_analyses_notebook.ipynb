{
 "cells": [
  {
   "cell_type": "markdown",
   "metadata": {},
   "source": [
    "# Sample notebook: Analyses\n",
    "\n",
    "---\n",
    "This notebook is based on the code from \"https://github.com/GVS-Lab/germinal_center/\" by Daniel Paysan and Saradha Venkatachalapathy (2023) and serves as an illustrating example of how to analyze biopsy images using the chrometric and protein features obtained as output of the preceding data processing.\n",
    "\n",
    "Briefly, this notebook provides functionality to\n",
    "1. Identify cell types based on protein features\n",
    "2. Filter out uninformative observations and features\n",
    "3. Perform statistical screen to identify chrometric cell type markers\n",
    "4. Compute cell-cell distances\n",
    "\n",
    "---\n"
   ]
  },
  {
   "cell_type": "markdown",
   "metadata": {},
   "source": [
    "---\n",
    "\n",
    "## Setting up the environment\n",
    "\n",
    "As a first step, we again load a number of external software packages, that we will use.\n",
    "\n"
   ]
  },
  {
   "cell_type": "code",
   "execution_count": 281,
   "metadata": {},
   "outputs": [
    {
     "name": "stdout",
     "output_type": "stream",
     "text": [
      "The nb_black extension is already loaded. To reload it, use:\n",
      "  %reload_ext nb_black\n"
     ]
    },
    {
     "data": {
      "application/javascript": [
       "\n",
       "            setTimeout(function() {\n",
       "                var nbb_cell_id = 281;\n",
       "                var nbb_unformatted_code = \"# import libraries\\nimport sys\\n\\nsys.path.append(\\\"../..\\\")\\n\\nfrom pathlib import Path\\nfrom glob import glob\\nimport pandas as pd\\nimport numpy as np\\nfrom collections import Counter\\nimport os\\nfrom tqdm.notebook import tqdm\\nfrom sklearn.ensemble import RandomForestClassifier\\nimport _pickle as cPickle\\nimport matplotlib.pyplot as plt\\nimport matplotlib as mpl\\nimport seaborn as sns\\nfrom imblearn.under_sampling import RandomUnderSampler\\nfrom scipy import stats\\nfrom sklearn import metrics\\nfrom netneurotools.stats import permtest_pearsonr\\nfrom scipy.stats import pearsonr, spearmanr\\nfrom sklearn.model_selection import cross_val_score\\nfrom skimage.measure import regionprops\\nimport cv2\\n\\n\\nfrom statannotations.Annotator import Annotator\\n\\nfrom src.utils.cell_type_detection import (\\n    get_positive_cells_batch,\\n    t_cell_neighbours,\\n    get_distances_to_tcells,\\n)\\nfrom src.utils.data_viz import (\\n    plot_feature_space,\\n    vis_classes,\\n    plot_predictions,\\n    plot_tcell_labels,\\n)\\nfrom src.utils.data_processing import clean_data, remove_correlated_features\\nfrom src.utils.discrimination import (\\n    compute_cv_scores,\\n    plot_cv_conf_mtx,\\n    plot_feature_importance,\\n    find_markers,\\n    plot_conf_mtx,\\n    run_cv_evaluation,\\n    plot_roc_for_stratified_cv,\\n    add_predictions,\\n    tcell_radius_neighbors,\\n    get_distances_to_dz_lz_border,\\n    add_kfold_predictions,\\n    test_correlation\\n)\\nfrom sklearn.metrics import confusion_matrix, classification_report\\nfrom tifffile import imread\\n\\nimport warnings\\n\\nwarnings.filterwarnings(\\\"ignore\\\")\\n\\nseed = 1234\\n\\nplt.rcParams[\\\"figure.dpi\\\"] = 300\\n\\n%load_ext nb_black\";\n",
       "                var nbb_formatted_code = \"# import libraries\\nimport sys\\n\\nsys.path.append(\\\"../..\\\")\\n\\nfrom pathlib import Path\\nfrom glob import glob\\nimport pandas as pd\\nimport numpy as np\\nfrom collections import Counter\\nimport os\\nfrom tqdm.notebook import tqdm\\nfrom sklearn.ensemble import RandomForestClassifier\\nimport _pickle as cPickle\\nimport matplotlib.pyplot as plt\\nimport matplotlib as mpl\\nimport seaborn as sns\\nfrom imblearn.under_sampling import RandomUnderSampler\\nfrom scipy import stats\\nfrom sklearn import metrics\\nfrom netneurotools.stats import permtest_pearsonr\\nfrom scipy.stats import pearsonr, spearmanr\\nfrom sklearn.model_selection import cross_val_score\\nfrom skimage.measure import regionprops\\nimport cv2\\n\\n\\nfrom statannotations.Annotator import Annotator\\n\\nfrom src.utils.cell_type_detection import (\\n    get_positive_cells_batch,\\n    t_cell_neighbours,\\n    get_distances_to_tcells,\\n)\\nfrom src.utils.data_viz import (\\n    plot_feature_space,\\n    vis_classes,\\n    plot_predictions,\\n    plot_tcell_labels,\\n)\\nfrom src.utils.data_processing import clean_data, remove_correlated_features\\nfrom src.utils.discrimination import (\\n    compute_cv_scores,\\n    plot_cv_conf_mtx,\\n    plot_feature_importance,\\n    find_markers,\\n    plot_conf_mtx,\\n    run_cv_evaluation,\\n    plot_roc_for_stratified_cv,\\n    add_predictions,\\n    tcell_radius_neighbors,\\n    get_distances_to_dz_lz_border,\\n    add_kfold_predictions,\\n    test_correlation,\\n)\\nfrom sklearn.metrics import confusion_matrix, classification_report\\nfrom tifffile import imread\\n\\nimport warnings\\n\\nwarnings.filterwarnings(\\\"ignore\\\")\\n\\nseed = 1234\\n\\nplt.rcParams[\\\"figure.dpi\\\"] = 300\\n\\n%load_ext nb_black\";\n",
       "                var nbb_cells = Jupyter.notebook.get_cells();\n",
       "                for (var i = 0; i < nbb_cells.length; ++i) {\n",
       "                    if (nbb_cells[i].input_prompt_number == nbb_cell_id) {\n",
       "                        if (nbb_cells[i].get_text() == nbb_unformatted_code) {\n",
       "                             nbb_cells[i].set_text(nbb_formatted_code);\n",
       "                        }\n",
       "                        break;\n",
       "                    }\n",
       "                }\n",
       "            }, 500);\n",
       "            "
      ],
      "text/plain": [
       "<IPython.core.display.Javascript object>"
      ]
     },
     "metadata": {},
     "output_type": "display_data"
    }
   ],
   "source": [
    "# import libraries\n",
    "import sys\n",
    "from pathlib import Path\n",
    "from glob import glob\n",
    "import pandas as pd\n",
    "import numpy as np\n",
    "from collections import Counter\n",
    "import os\n",
    "from tqdm.notebook import tqdm\n",
    "import matplotlib.pyplot as plt\n",
    "import matplotlib as mpl\n",
    "import seaborn as sns\n",
    "from scipy.stats import pearsonr, spearmanr\n",
    "from skimage.measure import regionprops\n",
    "import cv2\n",
    "from statannotations.Annotator import Annotator\n",
    "import warnings\n",
    "\n",
    "warnings.filterwarnings(\"ignore\")\n",
    "seed = 1234\n",
    "plt.rcParams[\"figure.dpi\"] = 300\n",
    "\n",
    "%load_ext nb_black"
   ]
  },
  {
   "cell_type": "markdown",
   "metadata": {},
   "source": [
    "We also load a number of function defined within this repository. Please refer to the code of these for a better understanding of what they do."
   ]
  },
  {
   "cell_type": "code",
   "execution_count": null,
   "metadata": {},
   "outputs": [],
   "source": [
    "sys.path.append(\"../..\")\n",
    "\n",
    "from src.utils.cell_type_detection import *\n",
    "from src.utils.data_viz import *\n",
    "from src.utils.data_processing import clean_data, remove_correlated_features\n",
    "from src.utils.discrimination import *"
   ]
  },
  {
   "cell_type": "markdown",
   "metadata": {},
   "source": [
    "---\n",
    "\n",
    "## Read in the preprocessed data\n",
    "\n",
    "\n",
    "We second read in the data that was generated by the preceding image processing, namely the segmentation and feature profiling tasks."
   ]
  },
  {
   "cell_type": "code",
   "execution_count": 139,
   "metadata": {},
   "outputs": [
    {
     "data": {
      "application/javascript": [
       "\n",
       "            setTimeout(function() {\n",
       "                var nbb_cell_id = 139;\n",
       "                var nbb_unformatted_code = \"# read in the data\\npath_to_raw_images = \\\"../../data/dataset1/images/\\\"\\ndata_dir = path_to_raw_images + \\\"consolidated_features/\\\"\\n\\nnuc_features = pd.read_csv(os.path.join(data_dir, \\\"nuc_features.csv\\\"), index_col=0)\\n\\nnuc_feature_description = pd.read_csv(\\n    \\\"../../data/other/chrometric_feature_description.csv\\\", index_col=0\\n)\\nfeature_name_dict = dict(\\n    zip(\\n        list(nuc_feature_description.loc[:, \\\"feature\\\"]),\\n        list(nuc_feature_description.loc[:, \\\"long_name\\\"]),\\n    )\\n)\\nnuc_features = nuc_features.rename(columns=feature_name_dict)\\n\\nspatial_cord = pd.read_csv(\\n    os.path.join(data_dir, \\\"spatial_coordiates.csv\\\"), index_col=0\\n)\\nspatial_cord.index = spatial_cord[\\\"nuc_id\\\"]\\n\\naicda_levels = pd.read_csv(os.path.join(data_dir, \\\"aicda_levels.csv\\\"), index_col=0)\\ncd3_levels = pd.read_csv(os.path.join(data_dir, \\\"cd3_levels.csv\\\"), index_col=0)\\ngc_levels = pd.read_csv(os.path.join(data_dir, \\\"gc_levels.csv\\\"), index_col=0)\\n\\noutput_dir = \\\"../../data/dataset1/analysis/dark_vs_light_bcells/\\\"\\nos.makedirs(output_dir, exist_ok=True)\";\n",
       "                var nbb_formatted_code = \"# read in the data\\npath_to_raw_images = \\\"../../data/dataset1/images/\\\"\\ndata_dir = path_to_raw_images + \\\"consolidated_features/\\\"\\n\\nnuc_features = pd.read_csv(os.path.join(data_dir, \\\"nuc_features.csv\\\"), index_col=0)\\n\\nnuc_feature_description = pd.read_csv(\\n    \\\"../../data/other/chrometric_feature_description.csv\\\", index_col=0\\n)\\nfeature_name_dict = dict(\\n    zip(\\n        list(nuc_feature_description.loc[:, \\\"feature\\\"]),\\n        list(nuc_feature_description.loc[:, \\\"long_name\\\"]),\\n    )\\n)\\nnuc_features = nuc_features.rename(columns=feature_name_dict)\\n\\nspatial_cord = pd.read_csv(\\n    os.path.join(data_dir, \\\"spatial_coordiates.csv\\\"), index_col=0\\n)\\nspatial_cord.index = spatial_cord[\\\"nuc_id\\\"]\\n\\naicda_levels = pd.read_csv(os.path.join(data_dir, \\\"aicda_levels.csv\\\"), index_col=0)\\ncd3_levels = pd.read_csv(os.path.join(data_dir, \\\"cd3_levels.csv\\\"), index_col=0)\\ngc_levels = pd.read_csv(os.path.join(data_dir, \\\"gc_levels.csv\\\"), index_col=0)\\n\\noutput_dir = \\\"../../data/dataset1/analysis/dark_vs_light_bcells/\\\"\\nos.makedirs(output_dir, exist_ok=True)\";\n",
       "                var nbb_cells = Jupyter.notebook.get_cells();\n",
       "                for (var i = 0; i < nbb_cells.length; ++i) {\n",
       "                    if (nbb_cells[i].input_prompt_number == nbb_cell_id) {\n",
       "                        if (nbb_cells[i].get_text() == nbb_unformatted_code) {\n",
       "                             nbb_cells[i].set_text(nbb_formatted_code);\n",
       "                        }\n",
       "                        break;\n",
       "                    }\n",
       "                }\n",
       "            }, 500);\n",
       "            "
      ],
      "text/plain": [
       "<IPython.core.display.Javascript object>"
      ]
     },
     "metadata": {},
     "output_type": "display_data"
    }
   ],
   "source": [
    "nuc_features = pd.read_csv(\"/path/to/nuc_features.csv\", index_col=0)\n",
    "\n",
    "\n",
    "\n",
    "spatial_cord = pd.read_csv(\"/path/to/spatial_coordiates.csv\"), index_col=0)\n",
    "spatial_cord.index = spatial_cord[\"nuc_id\"]\n",
    "\n",
    "lamin_levels = pd.read_csv(\"/path/to/lamin_levels.csv\", index_col=0)\n",
    "cd3_levels = pd.read_csv(\"/path/to/cd3_levels.csv\", index_col=0)"
   ]
  },
  {
   "cell_type": "markdown",
   "metadata": {},
   "source": [
    "While this is not required, we recommend renaming the chrometric features according to their updated description, this is achieved by running the code below."
   ]
  },
  {
   "cell_type": "code",
   "execution_count": null,
   "metadata": {},
   "outputs": [],
   "source": [
    "nuc_feature_description = pd.read_csv(\n",
    "    \"https://github.com/GVS-Lab/chrometrics/blob/main/chrometric_feature_description.csv\", index_col=0\n",
    ")\n",
    "feature_name_dict = dict(\n",
    "    zip(\n",
    "        list(nuc_feature_description.loc[:, \"feature\"]),\n",
    "        list(nuc_feature_description.loc[:, \"long_name\"]),\n",
    "    )\n",
    ")\n",
    "nuc_features = nuc_features.rename(columns=feature_name_dict)"
   ]
  },
  {
   "cell_type": "markdown",
   "metadata": {},
   "source": [
    "Note that the linked ``.csv`` file also contains a description of the features, which might be helpful to better understand what these features are."
   ]
  },
  {
   "cell_type": "markdown",
   "metadata": {},
   "source": [
    "---"
   ]
  },
  {
   "cell_type": "markdown",
   "metadata": {},
   "source": [
    "## Identify cell type labels\n",
    "\n",
    "To identify the cell type labels, we will use the expression of marker proteins that were measured. In this example these are only the CD3 labels but the procedure shown below can be similarly run if there are many more marker stains available and profiled using the preceding imaging processing described in the feature generation notebook."
   ]
  },
  {
   "cell_type": "markdown",
   "metadata": {},
   "source": [
    "To identify if a cell is stained positively for a given marker, we look at the average intensity of the corresponding protein within the identified cellular mask. Assuming sufficient specificity of the staining, we should observe a bimodal distribution of that quantity when looking at the mean expression for all cells in a given image. Cells that are positive for the marker will contribute to the higher mode and those that are negative to the lower mode. We thus, identify cells that are positive for a marker by fitting a 2-component Gaussian mixture model for the average cellular intensities of the marker protein and label cells as positive that are assigned to the component with the larger mode and others as negative."
   ]
  },
  {
   "cell_type": "code",
   "execution_count": null,
   "metadata": {},
   "outputs": [],
   "source": [
    "(_, fovs) = pd.factorize(cd4_levels[\"image\"].astype(\"category\"))\n",
    "img_names = fovs.categories\n",
    "cd3_positive_cells = get_positive_cells_batch(cd3_levels, img_names)"
   ]
  },
  {
   "cell_type": "markdown",
   "metadata": {},
   "source": [
    "Note that this is done individually for each image, as the intensity distribution of the markers might vary between images."
   ]
  },
  {
   "cell_type": "markdown",
   "metadata": {},
   "source": [
    "We store the identified cell type labels as a new feature called ``cd3_status`` as part of our nuclear features."
   ]
  },
  {
   "cell_type": "code",
   "execution_count": null,
   "metadata": {},
   "outputs": [],
   "source": [
    "nuc_features[\"cd3_status\"] = \"negative\"\n",
    "nuc_features.loc[\n",
    "    nuc_features.nuc_id.isin(cd3_positive_cells), \"cd3_status\"\n",
    "] = \"positive\""
   ]
  },
  {
   "cell_type": "markdown",
   "metadata": {},
   "source": [
    "---\n",
    "\n",
    "## Chrometric feature preprocessing\n",
    "\n",
    "We next preprocess the chrometric features for consecutive analyses. This will mostly include filtering out constant features and observations and those that contain missing values. Additionally, we remove a number of features that provide positional information and should not be considered in our analyses."
   ]
  },
  {
   "cell_type": "code",
   "execution_count": null,
   "metadata": {},
   "outputs": [],
   "source": [
    "metacolumns = [\n",
    "    \"label_id\",\n",
    "    \"weighted_centroid_y\",\n",
    "    \"weighted_centroid_x\",\n",
    "    \"centroid_y\",\n",
    "    \"centroid_x\",\n",
    "    \"bbox-0\",\n",
    "    \"bbox-1\",\n",
    "    \"bbox-2\",\n",
    "    \"bbox-3\",\n",
    "    \"nuc_id\",\n",
    "    \"image\",\n",
    "    \"orientation\",\n",
    "    \"spat_centroid_y\",\n",
    "    \"spat_centroid_x\",\n",
    "    \"cd3_status\"\n",
    "]\n",
    "# drop_columns = set(metacolumns).union(set(list(gc_nuc_features.filter(regex=\"-\").columns)))\n",
    "drop_columns = metacolumns\n",
    "cleaned_nuc_features = clean_data(\n",
    "    nuc_features, drop_columns=list(drop_columns), index_col=\"nuc_id\"\n",
    ")\n",
    "\n",
    "cleaned_nuc_cd3_labels = nuc_features.loc[nuc_features.nuc_id.isin(cleaned_nuc_features.index), \"cd3_status\"]"
   ]
  },
  {
   "cell_type": "markdown",
   "metadata": {},
   "source": [
    "---\n",
    "\n",
    "## Identify chrometric cell type markers\n",
    "\n",
    "We now identify chrometric features that are significantly different between CD3+ and CD3- negative cells. Note that this procedure can be similarly run for any other labels such as e.g. health and disease if these are available.\n",
    "\n",
    "In particular, we run a test-based screen that for each chrometric feature uses a statistical test defined as the ``test`` parameter (here the Welch t-test) to identify differences in the distribution or here means of the considered chrometric features in cells that are positive or negative in our example for CD3.\n",
    "\n",
    "The results are filtered to remove all entries that are not significant on a 5% confidence level after adjusting for multiple testing using FDR correction."
   ]
  },
  {
   "cell_type": "code",
   "execution_count": null,
   "metadata": {},
   "outputs": [],
   "source": [
    "celltype_marker_results = find_markers(\n",
    "    data=cleaned_nuc_features, labels=cleaned_nuc_cd3_labels, test=\"welch\"\n",
    ")\n",
    "tcell_marker_results = celltype_marker_results.loc[\n",
    "    celltype_marker_results.label == \"positive\"\n",
    "]\n",
    "tcell_marker_results = tcell_marker_results.loc[\n",
    "    tcell_marker_results.adjusted_pval < 0.05\n",
    "]\n",
    "tcell_marker_results = tcell_marker_results.sort_values(\"abs_delta_fc\", ascending=False)\n",
    "tcell_marker_results"
   ]
  },
  {
   "cell_type": "markdown",
   "metadata": {},
   "source": [
    "---\n",
    "\n",
    "## Visualizing the results\n",
    "\n",
    "To visualize the differences, one could for instance plot the distributions of e.g. the top feature when sorting them based on the absolute log-fold change using violinplots."
   ]
  },
  {
   "cell_type": "code",
   "execution_count": null,
   "metadata": {},
   "outputs": [],
   "source": [
    "fig, ax = plt.subplots(figsize=[6,4])\n",
    "ax = sns.violinplot(data = nuc_features.loc[nuc_features.nuc_id.isin(cleaned_nuc_features.index)], x=\"cd3_status\", \n",
    "                    y=tcell_marker_results.iloc[0,1])\n",
    "plt.show()"
   ]
  },
  {
   "cell_type": "markdown",
   "metadata": {},
   "source": [
    "---\n",
    "\n",
    "## Measure cellular distances\n",
    "\n",
    "Finally, we compute the pair-wise euclidean distance matrices for all cells in each image, which can be used for later analyses. Note that depending on the number of cells this matrix can get extremely large."
   ]
  },
  {
   "cell_type": "code",
   "execution_count": null,
   "metadata": {},
   "outputs": [],
   "source": [
    "image_ids, cell_dists = get_distances_to_tcells(\n",
    "    dataset=nuc_features,\n",
    "    id_col=\"nuc_id\",\n",
    "    range_norm=True,\n",
    ")"
   ]
  },
  {
   "cell_type": "markdown",
   "metadata": {},
   "source": [
    "The output of the function will be a list of the image IDs and a list with the corresponding cellular distance matrices. The parameter ``range_norm`` marks if the distances should be range-normalized to 0 and 1 within each distance matrix."
   ]
  },
  {
   "cell_type": "markdown",
   "metadata": {},
   "source": [
    "The row and column names mark the ``nuc_id`` of the cells whose distance is given at the respective entry, which also serves as the index for e.g. the nuc_features data frame and thus enables the mapping of distances of cells to their respective chrometric and proteomic profiles.\n",
    "\n",
    "As an example, we here plot the distance matrix of the first image."
   ]
  },
  {
   "cell_type": "code",
   "execution_count": null,
   "metadata": {},
   "outputs": [],
   "source": [
    "print(image_ids[0])\n",
    "cell_dists[0]"
   ]
  },
  {
   "cell_type": "code",
   "execution_count": null,
   "metadata": {},
   "outputs": [],
   "source": []
  }
 ],
 "metadata": {
  "kernelspec": {
   "display_name": "Python 3 (ipykernel)",
   "language": "python",
   "name": "python3"
  },
  "language_info": {
   "codemirror_mode": {
    "name": "ipython",
    "version": 3
   },
   "file_extension": ".py",
   "mimetype": "text/x-python",
   "name": "python",
   "nbconvert_exporter": "python",
   "pygments_lexer": "ipython3",
   "version": "3.10.9"
  }
 },
 "nbformat": 4,
 "nbformat_minor": 4
}
